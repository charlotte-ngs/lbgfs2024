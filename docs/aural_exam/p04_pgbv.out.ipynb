{
 "cells": [
  {
   "cell_type": "markdown",
   "metadata": {},
   "source": [
    "# \n",
    "\n",
    "# Prediction of Genomic Breeding Values\n",
    "\n",
    "The following dataset is used to predict genomic breeding values. The column $y$ contains the observations and columns S1 to S15 contain genotypes of 15 SNP marker loci."
   ],
   "id": "f468141b-5453-4e0f-8674-7207d2ab28a9"
  },
  {
   "cell_type": "code",
   "execution_count": null,
   "metadata": {},
   "outputs": [],
   "source": [
    "s_data_root <- \"https://charlotte-ngs.github.io/lbgfs2024/data\"\n",
    "s_pgbv_p04 <- file.path(s_data_root, \"aural_exam_pgbv_p04.csv\")\n",
    "tbl_pgbv_p04 <- readr::read_delim(s_pgbv_p04, \n",
    "                                 delim = \",\", \n",
    "                                 show_col_types = FALSE)\n"
   ],
   "id": "97671afb-132c-4ef3-8a50-54528203bf22"
  },
  {
   "cell_type": "markdown",
   "metadata": {},
   "source": [
    "The dataset shown as table"
   ],
   "id": "f35bfb9f-8c0f-471c-9767-d27cd6da65b8"
  },
  {
   "cell_type": "code",
   "execution_count": null,
   "metadata": {},
   "outputs": [
    {
     "output_type": "display_data",
     "metadata": {},
     "data": {
      "text/markdown": [
       "  --------------------------------------------------------------------------------------------------\n",
       "    ID sex        y   S1   S2   S3   S4   S5   S6   S7   S8   S9   S10   S11   S12   S13   S14   S15\n",
       "  ---- ----- ------ ---- ---- ---- ---- ---- ---- ---- ---- ---- ----- ----- ----- ----- ----- -----\n",
       "     1 M       59.0    1    1    0    0    0    0    1    1    1     0     1     0     2     1     1\n",
       "\n",
       "     2 M       33.5    0    0    0    1    0    1    1    1    1     0     1     1     0     0     0\n",
       "\n",
       "     3 F       75.1    0    0    0    1    0    1    1    1    1     0     0     1     2     1     0\n",
       "\n",
       "     4 F       83.9    0    0    0    1    1    1    1    1    1     0     1     2     1     0     0\n",
       "\n",
       "     5 F       52.4    0    0    1    1    0    1    1    0    1     0     0     1     0     0     0\n",
       "\n",
       "     6 M       62.5    0    0    1    0    1    0    0    2    2     0     0     0     1     1     1\n",
       "\n",
       "     7 F       59.7    1    1    0    0    1    1    1    1    0     1     0     0     0     1     0\n",
       "\n",
       "     8 M       81.1    1    0    2    1    1    1    1    0    1     0     1     1     1     1     2\n",
       "\n",
       "     9 M       54.4    0    0    0    1    0    1    0    1    1     1     1     2     1     0     0\n",
       "\n",
       "    10 M       29.0    0    0    0    1    0    1    1    0    1     0     0     1     0     0     2\n",
       "  --------------------------------------------------------------------------------------------------\n"
      ]
     }
    }
   ],
   "source": [
    "knitr::kable(tbl_pgbv_p04)\n"
   ],
   "id": "d6f4ea4b-76f9-4397-8485-288d43dade28"
  },
  {
   "cell_type": "markdown",
   "metadata": {},
   "source": [
    "1.  Use a marker effect model (MEM) to predict genomic breeding values for the animals given in the dataset shown above. Specify the marker effect model as a mathematical formula and list the meaning of all model components. Indicate the expected values and the variance-covariance matrices for all random effects in the model. You can assume $\\lambda = \\sigma_e^2 / \\sigma_q^2 = 1$.\n",
    "\n",
    "2.  Predict genomic breeding values using a breeding value based model (BVM) for all animals in the above given dataset. Specify the model as a mathematical formula and list the meaning of all model components. Indicate the expected values and the variance-covariance matrices for all random effects in the model. You can assume $\\lambda = \\sigma_e^2 / \\sigma_g^2 = 3$."
   ],
   "id": "6fa66ea1-6f9f-415d-973f-7d48439f93dd"
  }
 ],
 "nbformat": 4,
 "nbformat_minor": 5,
 "metadata": {}
}
