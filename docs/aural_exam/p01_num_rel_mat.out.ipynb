{
 "cells": [
  {
   "cell_type": "markdown",
   "metadata": {},
   "source": [
    "# \n",
    "\n",
    "# Numerator Relationship Matrix\n",
    "\n",
    "Given is the following pedigree"
   ],
   "id": "82eb8355-e396-45ad-b616-51849aaae711"
  },
  {
   "cell_type": "code",
   "execution_count": null,
   "metadata": {},
   "outputs": [],
   "source": [
    "s_data_root <- \"https://charlotte-ngs.github.io/lbgfs2024/data\"\n",
    "s_ped_p01 <- file.path(s_data_root, \"aural_exam_pedigree_p01.csv\")\n",
    "tbl_ped_p01 <- readr::read_delim(s_ped_p01, \n",
    "                                 delim = \",\", \n",
    "                                 show_col_types = FALSE)\n"
   ],
   "id": "b3c83475-36c6-4318-ad7e-11fcb157da01"
  },
  {
   "cell_type": "markdown",
   "metadata": {},
   "source": [
    "Pedigree shown as table"
   ],
   "id": "83b5ad54-2eea-4920-86ff-16ab836cbe03"
  },
  {
   "cell_type": "code",
   "execution_count": null,
   "metadata": {},
   "outputs": [
    {
     "output_type": "display_data",
     "metadata": {},
     "data": {
      "text/markdown": [
       "    Animal   Sire   Dam\n",
       "  -------- ------ -----\n",
       "         6      2     1\n",
       "         7      2     3\n",
       "         8      6     4\n",
       "         9      7     5\n",
       "        10      8     9\n",
       "        11     10     5\n"
      ]
     }
    }
   ],
   "source": [
    "knitr::kable(tbl_ped_p01)\n"
   ],
   "id": "5762fbaf-b6c5-415e-8d36-8f213b0738f3"
  },
  {
   "cell_type": "markdown",
   "metadata": {},
   "source": [
    "Use the above pedigree to compute\n",
    "\n",
    "1.  the numerator relationship matrix $A$ and\n",
    "2.  the inbreeding coefficients of each animal\n",
    "3.  the expected inbreeding coefficients of potential offspring of animal 1 when mated to all possible mates in the pedigree\n",
    "\n",
    "Given a numerator relationship $A$, how can be determined which animals has which parents?"
   ],
   "id": "6fe12e6a-779c-4b3a-8c17-e3e93ea062a2"
  }
 ],
 "nbformat": 4,
 "nbformat_minor": 5,
 "metadata": {}
}
