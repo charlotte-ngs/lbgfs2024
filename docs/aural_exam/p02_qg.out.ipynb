{
 "cells": [
  {
   "cell_type": "markdown",
   "metadata": {},
   "source": [
    "# \n",
    "\n",
    "# Quantitative Genetics\n",
    "\n",
    "Given is the following dataset on a single locus with one observation"
   ],
   "id": "cb330ac0-23b7-46d0-811c-69bcee4b0079"
  },
  {
   "cell_type": "code",
   "execution_count": null,
   "metadata": {},
   "outputs": [],
   "source": [
    "s_data_root <- \"https://charlotte-ngs.github.io/lbgfs2024/data\"\n",
    "s_qg_p02 <- file.path(s_data_root, \"aural_exam_qg_p02.csv\")\n",
    "tbl_qg_p02 <- readr::read_delim(s_qg_p02, \n",
    "                                 delim = \",\", \n",
    "                                 show_col_types = FALSE)\n"
   ],
   "id": "9118ca8d-505d-4341-80bf-89f45dd1e4db"
  },
  {
   "cell_type": "markdown",
   "metadata": {},
   "source": [
    "The dataset shown as table"
   ],
   "id": "9424e5f1-98b8-42ff-b23f-9b801a1e0e89"
  },
  {
   "cell_type": "code",
   "execution_count": null,
   "metadata": {},
   "outputs": [
    {
     "output_type": "display_data",
     "metadata": {},
     "data": {
      "text/markdown": [
       "    Animal   SNP_1   Observation\n",
       "  -------- ------- -------------\n",
       "         1       0           141\n",
       "         2       0           120\n",
       "         3       2           189\n",
       "         4       1           172\n",
       "         5       1           158\n",
       "         6       1           152\n",
       "         7       1           141\n",
       "         8       0           116\n",
       "         9       1           176\n",
       "        10       0           107\n",
       "        11       1           132\n",
       "        12       1           173\n",
       "        13       1           131\n",
       "        14       0           144\n",
       "        15       1           176\n",
       "        16       1           175\n",
       "        17       0           103\n",
       "        18       1           154\n",
       "        19       2           176\n",
       "        20       0           129\n",
       "        21       2           187\n",
       "        22       1           181\n",
       "        23       1           138\n",
       "        24       1           132\n",
       "        25       0           119\n",
       "        26       0            94\n",
       "        27       1           139\n",
       "        28       0           144\n",
       "        29       0           124\n",
       "        30       0           124\n"
      ]
     }
    }
   ],
   "source": [
    "knitr::kable(tbl_qg_p02)\n"
   ],
   "id": "dd4896b1-c2f9-4f8a-a3b1-cdbef21d79de"
  },
  {
   "cell_type": "markdown",
   "metadata": {},
   "source": [
    "Use the above dataset to compute\n",
    "\n",
    "1.  the genotypic values $a$ and $d$\n",
    "2.  the breeding values for all genotypes\n",
    "3.  the dominance deviations for all genotypes\n",
    "4.  the genetic additive variance\n",
    "5.  the dominance variance"
   ],
   "id": "0dd89396-548b-4347-bc5b-375b8c2fe529"
  }
 ],
 "nbformat": 4,
 "nbformat_minor": 5,
 "metadata": {}
}
