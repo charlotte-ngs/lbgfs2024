{
 "cells": [
  {
   "cell_type": "markdown",
   "metadata": {},
   "source": [
    "# \n",
    "\n",
    "# Pedigree-Based Prediction of Breeding Values\n",
    "\n",
    "Below is a dataset with a pedigree."
   ],
   "id": "1193415d-09df-499d-8165-cf6578890ab0"
  },
  {
   "cell_type": "code",
   "execution_count": null,
   "metadata": {},
   "outputs": [],
   "source": [
    "s_data_root <- \"https://charlotte-ngs.github.io/lbgfs2024/data\"\n",
    "s_pbv_p03 <- file.path(s_data_root, \"aural_exam_pbv_p03.csv\")\n",
    "tbl_pbv_p03 <- readr::read_delim(s_pbv_p03, \n",
    "                                 delim = \",\", \n",
    "                                 show_col_types = FALSE)\n"
   ],
   "id": "5f9c47de-719b-4f80-8218-ebda13c34052"
  },
  {
   "cell_type": "markdown",
   "metadata": {},
   "source": [
    "The dataset shown as table"
   ],
   "id": "d61ada84-4a88-437a-8189-d3f1cfe33294"
  },
  {
   "cell_type": "code",
   "execution_count": null,
   "metadata": {},
   "outputs": [
    {
     "output_type": "display_data",
     "metadata": {},
     "data": {
      "text/markdown": [
       "    id   sire   dam   herd       y\n",
       "  ---- ------ ----- ------ -------\n",
       "     4      2     1      1   26.52\n",
       "     6      2     3      1   39.71\n",
       "     8      4     5      1   25.11\n",
       "     9      6     7      2   24.02\n",
       "    11      8     9      2    6.15\n",
       "    13     11    10      2    8.81\n",
       "    15     11    12      2   18.56\n",
       "    17     13    14      3   47.81\n",
       "    18     15    16      3   51.72\n",
       "    20     18    19      3   47.33\n"
      ]
     }
    }
   ],
   "source": [
    "knitr::kable(tbl_pbv_p03)\n"
   ],
   "id": "e10add49-3e56-422b-b97c-a3baf22ca989"
  },
  {
   "cell_type": "markdown",
   "metadata": {},
   "source": [
    "1.  Use the above shown dataset to predict breeding values for all animals in the pedigree using a BLUP animal model. Use ’herd‘ as fixed effect and compute estimates for all the levels of the fixed effect. The column entitled $y$ contains the values for an observed trait of interest. Specify the model as mathematical formula and list the meaning of all model components. Write down the expected values and the variance-covariance matrices for all random effects in the model. Assume the phenotypic variance to be $\\sigma_p^2 = 64$ and the heritability to be $h^2 = 0.16$.\n",
    "\n",
    "2.  Compute the reliabilities for the predicted breeding values of all animals under Problem a."
   ],
   "id": "808e9df8-308e-40a7-a3fc-82bd1e31b778"
  }
 ],
 "nbformat": 4,
 "nbformat_minor": 5,
 "metadata": {}
}
